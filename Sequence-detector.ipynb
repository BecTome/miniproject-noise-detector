{
 "cells": [
  {
   "cell_type": "markdown",
   "metadata": {},
   "source": [
    "# Subsequence detector"
   ]
  },
  {
   "cell_type": "markdown",
   "metadata": {},
   "source": [
    "This is a problem that asks us to create a function that will check to see if a sequence of numbers is a subsequence of a given array.\n",
    "\n",
    "A subsequence of an array is a set of integers that don’t have to be adjacent in the given array but are in the same order as they appear in the array.\n",
    "\n",
    "For example, given an array `[1, 2, 3, 4, 5, 6, 7, 8, 9, 10]`, a valid subsequence would be `[2,4,6,8,10]`. The numbers aren’t directly next to each other, but they are in the same order as when these integers were in the original array.\n",
    "\n",
    "Something to note is that a single number in an array and the array itself are both valid subsequences of a given array input.\n",
    "\n",
    "With that information, let’s start analyzing and solving the problem."
   ]
  },
  {
   "cell_type": "code",
   "execution_count": 18,
   "metadata": {},
   "outputs": [],
   "source": [
    "import numpy as np\n",
    "import sys\n",
    "\n",
    "N_SAMPLE = 20000\n",
    "N_SUBSAMPLE = 200\n",
    "\n",
    "sys.setrecursionlimit(10000000)"
   ]
  },
  {
   "cell_type": "code",
   "execution_count": 19,
   "metadata": {},
   "outputs": [],
   "source": [
    "np.random.seed(0)\n",
    "X1 = sorted(np.random.randn(N_SAMPLE) * 10 + 10)\n",
    "X2 = sorted(np.random.choice(X1, N_SUBSAMPLE))"
   ]
  },
  {
   "cell_type": "markdown",
   "metadata": {},
   "source": [
    "## Brute Force Method"
   ]
  },
  {
   "cell_type": "code",
   "execution_count": 20,
   "metadata": {},
   "outputs": [],
   "source": [
    "def is_subsequence_bf(seq, arr):\n",
    "    '''\n",
    "    Input: 2 arrays\n",
    "    Output: Bool \n",
    "\n",
    "    Given 2 arrays, checks if the second one is subsequence of the first one\n",
    "    '''\n",
    "    seq_idx = 0\n",
    "    for x in seq:\n",
    "        if x in arr:\n",
    "            seq_idx += 1\n",
    "\n",
    "    return seq_idx == len(seq)\n",
    "\n",
    "def first_idx_bf(seq, arr):\n",
    "    '''\n",
    "    Given 2 arrays,  if the second one is subsequence of the first one,\n",
    "    returns the begining  of the subsequence in the original one.\n",
    "    '''\n",
    "    if is_subsequence_bf(seq, arr):\n",
    "        return arr.index(seq[0])\n",
    "    else:\n",
    "        print(\"Not Subsequence\")\n",
    "\n",
    "assert first_idx_bf([19, 45], [19, 34, 45]) == 0, 'First ID not recognized'\n",
    "assert first_idx_bf([45], [19, 34, 45]) == 2, 'Last ID not recognized for singleton'\n",
    "assert first_idx_bf([19, 34, 45], [19, 34, 45]) == 0, 'Total is not a part'"
   ]
  },
  {
   "cell_type": "code",
   "execution_count": 21,
   "metadata": {},
   "outputs": [
    {
     "name": "stdout",
     "output_type": "stream",
     "text": [
      "14.9 ms ± 408 µs per loop (mean ± std. dev. of 7 runs, 100 loops each)\n"
     ]
    }
   ],
   "source": [
    "%timeit first_idx_bf(X2, X1)"
   ]
  },
  {
   "cell_type": "markdown",
   "metadata": {},
   "source": [
    "## Proposed Solution"
   ]
  },
  {
   "cell_type": "code",
   "execution_count": 22,
   "metadata": {},
   "outputs": [],
   "source": [
    "def is_subsequence(seq, arr):\n",
    "    '''\n",
    "    Input: 2 arrays\n",
    "    Output: Bool \n",
    "\n",
    "    Given 2 arrays, checks if the second one is subsequence of the first one\n",
    "    '''\n",
    "    arr_idx = 0\n",
    "    seq_idx = 0\n",
    "    while arr_idx<len(arr) and seq_idx<len(seq):\n",
    "        if arr[arr_idx] == seq[seq_idx]:\n",
    "            seq_idx += 1\n",
    "        arr_idx +=1\n",
    "\n",
    "    return seq_idx == len(seq)\n",
    "\n",
    "def first_idx(seq, arr):\n",
    "    '''\n",
    "    Given 2 arrays,  if the second one is subsequence of the first one,\n",
    "    returns the begining  of the subsequence in the original one.\n",
    "    '''\n",
    "    if is_subsequence(seq, arr):\n",
    "        return arr.index(seq[0])\n",
    "    else:\n",
    "        print(\"Not Subsequence\")\n",
    "\n",
    "assert first_idx([19, 45], [19, 34, 45]) == 0, 'First ID not recognized'\n",
    "assert first_idx([45], [19, 34, 45]) == 2, 'Last ID not recognized for singleton'\n",
    "assert first_idx([19, 34, 45], [19, 34, 45]) == 0, 'Total is not a part'"
   ]
  },
  {
   "cell_type": "code",
   "execution_count": 23,
   "metadata": {},
   "outputs": [
    {
     "name": "stdout",
     "output_type": "stream",
     "text": [
      "2.12 ms ± 28.1 µs per loop (mean ± std. dev. of 7 runs, 100 loops each)\n"
     ]
    }
   ],
   "source": [
    "%timeit first_idx(X2, X1)"
   ]
  },
  {
   "cell_type": "markdown",
   "metadata": {},
   "source": [
    "## Recursion Solution"
   ]
  },
  {
   "cell_type": "code",
   "execution_count": 16,
   "metadata": {},
   "outputs": [],
   "source": [
    "def first_idx_rec(seq, arr, m, n):\n",
    "    # Base Cases\n",
    "    if m == 0:\n",
    "        return n\n",
    "    if n == 0:\n",
    "        return False\n",
    " \n",
    "    # If last characters of two\n",
    "    # strings are matching\n",
    "    if seq[m-1] == arr[n-1]:\n",
    "        return first_idx_rec(seq, arr, m-1, n-1)\n",
    " \n",
    "    # If last characters are not matching\n",
    "    return first_idx_rec(seq, arr, m, n-1)\n",
    "\n",
    "assert first_idx_rec([19, 45], [19, 34, 45], 2, 3) == 0, 'First ID not recognized'\n",
    "assert first_idx_rec([45], [19, 34, 45],1 ,3) == 2, 'Last ID not recognized for singleton'\n",
    "assert first_idx_rec([19, 34, 45], [19, 34, 45], 3, 3) == 0, 'Total is not a part'"
   ]
  },
  {
   "cell_type": "code",
   "execution_count": 6,
   "metadata": {},
   "outputs": [
    {
     "data": {
      "text/plain": [
       "0"
      ]
     },
     "execution_count": 6,
     "metadata": {},
     "output_type": "execute_result"
    }
   ],
   "source": [
    "first_idx_rec([19, 45], [19, 34, 45], 2, 3)"
   ]
  },
  {
   "cell_type": "code",
   "execution_count": 17,
   "metadata": {},
   "outputs": [
    {
     "name": "stdout",
     "output_type": "stream",
     "text": [
      "78.9 µs ± 4.1 µs per loop (mean ± std. dev. of 7 runs, 10,000 loops each)\n"
     ]
    }
   ],
   "source": [
    "%timeit first_idx_rec(X2, X1, len(X2), len(X1))"
   ]
  }
 ],
 "metadata": {
  "kernelspec": {
   "display_name": "Python 3.10.8 64-bit",
   "language": "python",
   "name": "python3"
  },
  "language_info": {
   "codemirror_mode": {
    "name": "ipython",
    "version": 3
   },
   "file_extension": ".py",
   "mimetype": "text/x-python",
   "name": "python",
   "nbconvert_exporter": "python",
   "pygments_lexer": "ipython3",
   "version": "3.10.8"
  },
  "orig_nbformat": 4,
  "vscode": {
   "interpreter": {
    "hash": "7600a12950a547366bb7a6732117e300ffd26224351912980486e1126c5d0f9a"
   }
  }
 },
 "nbformat": 4,
 "nbformat_minor": 2
}
